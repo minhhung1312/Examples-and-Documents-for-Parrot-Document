{
 "cells": [
  {
   "cell_type": "code",
   "execution_count": null,
   "metadata": {},
   "outputs": [],
   "source": [
    "# Update new package. Lastest version is 0.1.16\n",
    "!pip install parrotai -U"
   ]
  },
  {
   "cell_type": "code",
   "execution_count": 18,
   "metadata": {},
   "outputs": [],
   "source": [
    "from parrotai import ParrotAPI\n",
    "import time"
   ]
  },
  {
   "cell_type": "code",
   "execution_count": 19,
   "metadata": {},
   "outputs": [],
   "source": [
    "# Create a new instance of the ParrotAPI\n",
    "parrotai = ParrotAPI()"
   ]
  },
  {
   "cell_type": "markdown",
   "metadata": {},
   "source": [
    "# Login"
   ]
  },
  {
   "cell_type": "code",
   "execution_count": 20,
   "metadata": {},
   "outputs": [],
   "source": [
    "# please visit https://joinparrot.ai to register your account\n",
    "\n",
    "username = '<your-username>'\n",
    "password = '<your-password>'"
   ]
  },
  {
   "cell_type": "code",
   "execution_count": 21,
   "metadata": {},
   "outputs": [],
   "source": [
    "# login to the API. The credentials are stored in the object. You to login first before you can access the other endpoints\n",
    "_ = parrotai.login(username=username, password=password)"
   ]
  },
  {
   "cell_type": "markdown",
   "metadata": {},
   "source": [
    "# List Model"
   ]
  },
  {
   "cell_type": "code",
   "execution_count": 22,
   "metadata": {},
   "outputs": [
    {
     "name": "stdout",
     "output_type": "stream",
     "text": [
      "{'data': [{'model': 'bark', 'metadata': {}}, {'model': 'audiogen', 'metadata': {}}, {'model': 'musicgen', 'metadata': {}}], 'errors': [], 'error_description': '', 'start_time': '2024-03-14 12:51:01.868130', 'end_time': '2024-03-14 12:51:01.874610', 'host_of_client_call_request': '103.186.100.36', 'total_time_by_second': 0.00649, 'status': 'success'}\n"
     ]
    }
   ],
   "source": [
    "# Get models\n",
    "models = parrotai.get_models(\"audio_generation\")\n",
    "print(models)"
   ]
  },
  {
   "cell_type": "markdown",
   "metadata": {},
   "source": [
    "# Parrot AI: Generate Audio"
   ]
  },
  {
   "cell_type": "markdown",
   "metadata": {},
   "source": [
    "### Example 1"
   ]
  },
  {
   "cell_type": "code",
   "execution_count": 23,
   "metadata": {},
   "outputs": [],
   "source": [
    "# Configs\n",
    "model = \"audiogen\"\n",
    "duration = 5\n",
    "top_k = 15\n",
    "top_p = 0.9 "
   ]
  },
  {
   "cell_type": "code",
   "execution_count": 24,
   "metadata": {},
   "outputs": [
    {
     "name": "stdout",
     "output_type": "stream",
     "text": [
      "{'data': {'task_id': '418a4878eec040dd944c7e1d43a6c009', 'prompt': 'music rock', 'negative_prompt': '', 'config': {'model': 'audiogen', 'duration': 5, 'top_k': 15, 'top_p': 0.9, 'task_name': 'tasks.parrot_audiogen_task', 'task_type': 'TEXT-TO-AUDIO', 'queue_name': 'audiogen_queue'}}, 'errors': [], 'error_description': '', 'start_time': '2024-03-14 12:51:15.438997', 'end_time': '2024-03-14 12:51:15.469090', 'host_of_client_call_request': '103.186.100.36', 'total_time_by_second': 0.030104, 'status': 'success'}\n"
     ]
    },
    {
     "data": {
      "text/plain": [
       "'418a4878eec040dd944c7e1d43a6c009'"
      ]
     },
     "execution_count": 24,
     "metadata": {},
     "output_type": "execute_result"
    }
   ],
   "source": [
    "# Create task\n",
    "resp = parrotai.create_txt2audio(\n",
    "    prompt=\"music rock\", \n",
    "    model=model,\n",
    "    duration=duration,\n",
    "    top_k=top_k,\n",
    "    top_p=top_p\n",
    ")\n",
    "print(resp)\n",
    "task_id = resp['data']['task_id']\n",
    "task_id"
   ]
  },
  {
   "cell_type": "code",
   "execution_count": 25,
   "metadata": {},
   "outputs": [
    {
     "name": "stdout",
     "output_type": "stream",
     "text": [
      "{'data': {'is_success': True, 'data': {'task_id': '418a4878eec040dd944c7e1d43a6c009', 'total_tasks': 1, 'percent': 100, 'status': 'COMPLETED', 'url_download': 'https://media.joinparrot.ai/parrot-prod/generated_result/418a4878eec040dd944c7e1d43a6c009.wav'}}, 'errors': [], 'error_description': '', 'start_time': '2024-03-14 12:51:48.232837', 'end_time': '2024-03-14 12:51:48.233333', 'host_of_client_call_request': '103.186.100.36', 'total_time_by_second': 0.0005, 'status': 'success'}\n"
     ]
    }
   ],
   "source": [
    "# Get result\n",
    "timeout = time.time() + 60 \n",
    "while True:\n",
    "    if time.time() > timeout:\n",
    "        break\n",
    "    time.sleep(1)\n",
    "    resp_result = parrotai.result_txt2audio(task_id)\n",
    "    if resp_result['data']['data']['status'] == 'COMPLETED':\n",
    "        break\n",
    "print(resp_result)"
   ]
  },
  {
   "cell_type": "markdown",
   "metadata": {},
   "source": [
    "### Example 2"
   ]
  },
  {
   "cell_type": "code",
   "execution_count": 43,
   "metadata": {},
   "outputs": [],
   "source": [
    "# Configs\n",
    "model = \"audiogen\"\n",
    "duration = 4\n",
    "top_k = 15\n",
    "top_p = 0.9 "
   ]
  },
  {
   "cell_type": "code",
   "execution_count": 45,
   "metadata": {},
   "outputs": [
    {
     "name": "stdout",
     "output_type": "stream",
     "text": [
      "{'data': {'task_id': '474234695e864ac7bfcded0de65fa5b3', 'prompt': 'Jazz', 'negative_prompt': '', 'config': {'model': 'audiogen', 'duration': 4, 'top_k': 15, 'top_p': 0.9, 'task_name': 'tasks.parrot_audiogen_task', 'task_type': 'TEXT-TO-AUDIO', 'queue_name': 'audiogen_queue'}}, 'errors': [], 'error_description': '', 'start_time': '2024-03-14 13:09:48.760040', 'end_time': '2024-03-14 13:09:48.780425', 'host_of_client_call_request': '103.186.100.36', 'total_time_by_second': 0.02039, 'status': 'success'}\n"
     ]
    },
    {
     "data": {
      "text/plain": [
       "'474234695e864ac7bfcded0de65fa5b3'"
      ]
     },
     "execution_count": 45,
     "metadata": {},
     "output_type": "execute_result"
    }
   ],
   "source": [
    "# Create task\n",
    "resp = parrotai.create_txt2audio(\n",
    "    prompt=\"Jazz\", \n",
    "    model=model,\n",
    "    duration=duration,\n",
    "    top_k=top_k,\n",
    "    top_p=top_p\n",
    ")\n",
    "print(resp)\n",
    "task_id = resp['data']['task_id']\n",
    "task_id"
   ]
  },
  {
   "cell_type": "code",
   "execution_count": 46,
   "metadata": {},
   "outputs": [
    {
     "name": "stdout",
     "output_type": "stream",
     "text": [
      "{'data': {'is_success': True, 'data': {'task_id': '474234695e864ac7bfcded0de65fa5b3', 'total_tasks': 1, 'percent': 100, 'status': 'COMPLETED', 'url_download': 'https://media.joinparrot.ai/parrot-prod/generated_result/474234695e864ac7bfcded0de65fa5b3.wav'}}, 'errors': [], 'error_description': '', 'start_time': '2024-03-14 13:10:13.450638', 'end_time': '2024-03-14 13:10:13.451329', 'host_of_client_call_request': '103.186.100.36', 'total_time_by_second': 0.0007, 'status': 'success'}\n"
     ]
    }
   ],
   "source": [
    "# Get result\n",
    "timeout = time.time() + 60 \n",
    "while True:\n",
    "    if time.time() > timeout:\n",
    "        break\n",
    "    time.sleep(1)\n",
    "    resp_result = parrotai.result_txt2audio(task_id)\n",
    "    if resp_result['data']['data']['status'] == 'COMPLETED':\n",
    "        break\n",
    "print(resp_result)"
   ]
  },
  {
   "cell_type": "markdown",
   "metadata": {},
   "source": [
    "### Example 3"
   ]
  },
  {
   "cell_type": "code",
   "execution_count": 30,
   "metadata": {},
   "outputs": [],
   "source": [
    "# Configs\n",
    "model = \"audiogen\"\n",
    "duration = 8\n",
    "top_k = 20\n",
    "top_p = 0.8 "
   ]
  },
  {
   "cell_type": "code",
   "execution_count": 31,
   "metadata": {},
   "outputs": [
    {
     "name": "stdout",
     "output_type": "stream",
     "text": [
      "{'data': {'task_id': 'cd77b0f39d7f4c72af5b2c5073586e03', 'prompt': 'EDM music', 'negative_prompt': '', 'config': {'model': 'audiogen', 'duration': 8, 'top_k': 20, 'top_p': 0.8, 'task_name': 'tasks.parrot_audiogen_task', 'task_type': 'TEXT-TO-AUDIO', 'queue_name': 'audiogen_queue'}}, 'errors': [], 'error_description': '', 'start_time': '2024-03-14 13:03:20.261053', 'end_time': '2024-03-14 13:03:20.297924', 'host_of_client_call_request': '103.186.100.36', 'total_time_by_second': 0.036877, 'status': 'success'}\n"
     ]
    },
    {
     "data": {
      "text/plain": [
       "'cd77b0f39d7f4c72af5b2c5073586e03'"
      ]
     },
     "execution_count": 31,
     "metadata": {},
     "output_type": "execute_result"
    }
   ],
   "source": [
    "# Create task\n",
    "resp = parrotai.create_txt2audio(\n",
    "    prompt=\"EDM music\", \n",
    "    model=model,\n",
    "    duration=duration,\n",
    "    top_k=top_k,\n",
    "    top_p=top_p\n",
    ")\n",
    "print(resp)\n",
    "task_id = resp['data']['task_id']\n",
    "task_id"
   ]
  },
  {
   "cell_type": "code",
   "execution_count": 32,
   "metadata": {},
   "outputs": [
    {
     "name": "stdout",
     "output_type": "stream",
     "text": [
      "{'data': {'is_success': True, 'data': {'task_id': 'cd77b0f39d7f4c72af5b2c5073586e03', 'total_tasks': 1, 'percent': 100, 'status': 'COMPLETED', 'url_download': 'https://media.joinparrot.ai/parrot-prod/generated_result/cd77b0f39d7f4c72af5b2c5073586e03.wav'}}, 'errors': [], 'error_description': '', 'start_time': '2024-03-14 13:04:11.047631', 'end_time': '2024-03-14 13:04:11.048345', 'host_of_client_call_request': '103.186.100.36', 'total_time_by_second': 0.000719, 'status': 'success'}\n"
     ]
    }
   ],
   "source": [
    "# Get result\n",
    "timeout = time.time() + 60 \n",
    "while True:\n",
    "    if time.time() > timeout:\n",
    "        break\n",
    "    time.sleep(1)\n",
    "    resp_result = parrotai.result_txt2audio(task_id)\n",
    "    if resp_result['data']['data']['status'] == 'COMPLETED':\n",
    "        break\n",
    "print(resp_result)"
   ]
  },
  {
   "cell_type": "markdown",
   "metadata": {},
   "source": [
    "### Example 4"
   ]
  },
  {
   "cell_type": "code",
   "execution_count": 37,
   "metadata": {},
   "outputs": [],
   "source": [
    "# Configs\n",
    "model = \"audiogen\"\n",
    "duration = 5\n",
    "top_k = 50\n",
    "top_p = 0.8 "
   ]
  },
  {
   "cell_type": "code",
   "execution_count": 38,
   "metadata": {},
   "outputs": [
    {
     "name": "stdout",
     "output_type": "stream",
     "text": [
      "{'data': {'task_id': '85edb89d7e78468b882ec0e0fe90da32', 'prompt': 'Ballad music', 'negative_prompt': '', 'config': {'model': 'audiogen', 'duration': 5, 'top_k': 50, 'top_p': 0.8, 'task_name': 'tasks.parrot_audiogen_task', 'task_type': 'TEXT-TO-AUDIO', 'queue_name': 'audiogen_queue'}}, 'errors': [], 'error_description': '', 'start_time': '2024-03-14 13:07:39.654170', 'end_time': '2024-03-14 13:07:39.690058', 'host_of_client_call_request': '103.186.100.36', 'total_time_by_second': 0.035894, 'status': 'success'}\n"
     ]
    },
    {
     "data": {
      "text/plain": [
       "'85edb89d7e78468b882ec0e0fe90da32'"
      ]
     },
     "execution_count": 38,
     "metadata": {},
     "output_type": "execute_result"
    }
   ],
   "source": [
    "# Create task\n",
    "resp = parrotai.create_txt2audio(\n",
    "    prompt=\"Ballad music\", \n",
    "    model=model,\n",
    "    duration=duration,\n",
    "    top_k=top_k,\n",
    "    top_p=top_p\n",
    ")\n",
    "print(resp)\n",
    "task_id = resp['data']['task_id']\n",
    "task_id"
   ]
  },
  {
   "cell_type": "code",
   "execution_count": 39,
   "metadata": {},
   "outputs": [
    {
     "name": "stdout",
     "output_type": "stream",
     "text": [
      "{'data': {'is_success': True, 'data': {'task_id': '85edb89d7e78468b882ec0e0fe90da32', 'total_tasks': 1, 'percent': 100, 'status': 'COMPLETED', 'url_download': 'https://media.joinparrot.ai/parrot-prod/generated_result/85edb89d7e78468b882ec0e0fe90da32.wav'}}, 'errors': [], 'error_description': '', 'start_time': '2024-03-14 13:07:58.675593', 'end_time': '2024-03-14 13:07:58.676269', 'host_of_client_call_request': '103.186.100.36', 'total_time_by_second': 0.000685, 'status': 'success'}\n"
     ]
    }
   ],
   "source": [
    "# Get result\n",
    "timeout = time.time() + 60 \n",
    "while True:\n",
    "    if time.time() > timeout:\n",
    "        break\n",
    "    time.sleep(1)\n",
    "    resp_result = parrotai.result_txt2audio(task_id)\n",
    "    if resp_result['data']['data']['status'] == 'COMPLETED':\n",
    "        break\n",
    "print(resp_result)"
   ]
  },
  {
   "cell_type": "markdown",
   "metadata": {},
   "source": [
    "### Example 5"
   ]
  },
  {
   "cell_type": "code",
   "execution_count": 47,
   "metadata": {},
   "outputs": [],
   "source": [
    "# Configs\n",
    "model = \"audiogen\"\n",
    "duration = 6\n",
    "top_k = 100\n",
    "top_p = 0.5"
   ]
  },
  {
   "cell_type": "code",
   "execution_count": 48,
   "metadata": {},
   "outputs": [
    {
     "name": "stdout",
     "output_type": "stream",
     "text": [
      "{'data': {'task_id': 'f68ba53c561649409aca5a49fbbee834', 'prompt': 'Dance music', 'negative_prompt': '', 'config': {'model': 'audiogen', 'duration': 6, 'top_k': 100, 'top_p': 0.5, 'task_name': 'tasks.parrot_audiogen_task', 'task_type': 'TEXT-TO-AUDIO', 'queue_name': 'audiogen_queue'}}, 'errors': [], 'error_description': '', 'start_time': '2024-03-14 13:11:52.232278', 'end_time': '2024-03-14 13:11:52.268006', 'host_of_client_call_request': '103.186.100.36', 'total_time_by_second': 0.03574, 'status': 'success'}\n"
     ]
    },
    {
     "data": {
      "text/plain": [
       "'f68ba53c561649409aca5a49fbbee834'"
      ]
     },
     "execution_count": 48,
     "metadata": {},
     "output_type": "execute_result"
    }
   ],
   "source": [
    "# Create task\n",
    "resp = parrotai.create_txt2audio(\n",
    "    prompt=\"Dance music\", \n",
    "    model=model,\n",
    "    duration=duration,\n",
    "    top_k=top_k,\n",
    "    top_p=top_p\n",
    ")\n",
    "print(resp)\n",
    "task_id = resp['data']['task_id']\n",
    "task_id"
   ]
  },
  {
   "cell_type": "code",
   "execution_count": 49,
   "metadata": {},
   "outputs": [
    {
     "name": "stdout",
     "output_type": "stream",
     "text": [
      "{'data': {'is_success': True, 'data': {'task_id': 'f68ba53c561649409aca5a49fbbee834', 'total_tasks': 1, 'percent': 100, 'status': 'COMPLETED', 'url_download': 'https://media.joinparrot.ai/parrot-prod/generated_result/f68ba53c561649409aca5a49fbbee834.wav'}}, 'errors': [], 'error_description': '', 'start_time': '2024-03-14 13:12:11.520473', 'end_time': '2024-03-14 13:12:11.521053', 'host_of_client_call_request': '103.186.100.36', 'total_time_by_second': 0.000588, 'status': 'success'}\n"
     ]
    }
   ],
   "source": [
    "# Get result\n",
    "timeout = time.time() + 60 \n",
    "while True:\n",
    "    if time.time() > timeout:\n",
    "        break\n",
    "    time.sleep(1)\n",
    "    resp_result = parrotai.result_txt2audio(task_id)\n",
    "    if resp_result['data']['data']['status'] == 'COMPLETED':\n",
    "        break\n",
    "print(resp_result)"
   ]
  }
 ],
 "metadata": {
  "kernelspec": {
   "display_name": "Python 3",
   "language": "python",
   "name": "python3"
  },
  "language_info": {
   "codemirror_mode": {
    "name": "ipython",
    "version": 3
   },
   "file_extension": ".py",
   "mimetype": "text/x-python",
   "name": "python",
   "nbconvert_exporter": "python",
   "pygments_lexer": "ipython3",
   "version": "3.10.7"
  }
 },
 "nbformat": 4,
 "nbformat_minor": 2
}
