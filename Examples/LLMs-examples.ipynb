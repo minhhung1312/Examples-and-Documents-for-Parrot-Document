{
 "cells": [
  {
   "cell_type": "markdown",
   "metadata": {},
   "source": [
    "# Install"
   ]
  },
  {
   "cell_type": "code",
   "execution_count": null,
   "metadata": {},
   "outputs": [],
   "source": [
    "# Update new package. Lastest version is 0.1.18\n",
    "!pip install parrotai -U"
   ]
  },
  {
   "cell_type": "code",
   "execution_count": 14,
   "metadata": {},
   "outputs": [],
   "source": [
    "#Import library\n",
    "from parrotai import ParrotAPI\n",
    "import time"
   ]
  },
  {
   "cell_type": "markdown",
   "metadata": {},
   "source": [
    "# Login"
   ]
  },
  {
   "cell_type": "code",
   "execution_count": 15,
   "metadata": {},
   "outputs": [],
   "source": [
    "# Create a new instance of the ParrotAPI\n",
    "parrotai = ParrotAPI()"
   ]
  },
  {
   "cell_type": "code",
   "execution_count": 16,
   "metadata": {},
   "outputs": [],
   "source": [
    "# Please visit https://joinparrot.ai to register your account\n",
    "\n",
    "username = 'parrot_dev'\n",
    "password = 'parrot_dev123'"
   ]
  },
  {
   "cell_type": "code",
   "execution_count": 17,
   "metadata": {},
   "outputs": [],
   "source": [
    "# Login to the API. The credentials are stored in the object. You to login first before you can access the other endpoints\n",
    "_ = parrotai.login(username=username, password=password)"
   ]
  },
  {
   "cell_type": "markdown",
   "metadata": {},
   "source": [
    "# Generate LLMs"
   ]
  },
  {
   "cell_type": "code",
   "execution_count": 18,
   "metadata": {},
   "outputs": [
    {
     "name": "stdout",
     "output_type": "stream",
     "text": [
      "{'data': {'is_success': True, 'data': {'task_id': 'af9a48e3268f427892ae04640d0663af', 'total_tasks': 1, 'percent': 100, 'status': 'COMPLETED', 'response': 'In the heart of a remote forest, a group of intrepid friends embarked on an unforgettable adventure. Deep within the tangled undergrowth, they stumbled upon an ancient clearing, shrouded in mystery. However, their journey was far from smooth sailing. As the sun began its descent, unforeseen challenges emerged. A raging storm swept through the forest, threatening to engulf them. Yet, through grit and determination, they overcame the odds, building shelters to withstand the tempest and foraging for sustenance. Each challenge presented a unique opportunity for growth, and through their unwavering support for one another, they emerged from the forest with stories to cherish forever.'}, 'configs': {'model': 'gemma-7b', 'temperature': 0.7, 'top_k': 50, 'top_p': 0.95, 'max_new_tokens': 1024, 'task_name': 'tasks.parrot_llm_gemma_7b_task', 'task_type': 'LLM-GEMMA-7B', 'queue_name': 'llm_gemma_7b_queue', 'messages': [{'role': 'user', 'content': 'Compose a short paragraph describing an exciting adventure of a group of \\n     friends in a remote forest, where they encounter unexpected challenges and must find ways to overcome them.'}]}}, 'errors': [], 'error_description': '', 'start_time': '2024-03-26 01:55:04.932032', 'end_time': '2024-03-26 01:55:10.990834', 'host_of_client_call_request': '103.186.100.36', 'total_time_by_second': 6.058813, 'status': 'success'}\n"
     ]
    }
   ],
   "source": [
    "# Create task\n",
    "messages = [\n",
    "    {\"role\": \"user\", \"content\": \"\"\"Compose a short paragraph describing an exciting adventure of a group of \n",
    "     friends in a remote forest, where they encounter unexpected challenges and must find ways to overcome them.\"\"\"}\n",
    "]\n",
    "\n",
    "# Get result\n",
    "resp = parrotai.text_generation(\n",
    "    messages=messages,\n",
    "    model=\"gemma-7b\", \n",
    "    max_tokens=1024, # The maximum token generation\n",
    ")\n",
    "print(resp)"
   ]
  },
  {
   "cell_type": "code",
   "execution_count": 19,
   "metadata": {},
   "outputs": [
    {
     "name": "stdout",
     "output_type": "stream",
     "text": [
      "In the heart of a remote forest, a group of intrepid friends embarked on an unforgettable adventure. Deep within the tangled undergrowth, they stumbled upon an ancient clearing, shrouded in mystery. However, their journey was far from smooth sailing. As the sun began its descent, unforeseen challenges emerged. A raging storm swept through the forest, threatening to engulf them. Yet, through grit and determination, they overcame the odds, building shelters to withstand the tempest and foraging for sustenance. Each challenge presented a unique opportunity for growth, and through their unwavering support for one another, they emerged from the forest with stories to cherish forever.\n"
     ]
    }
   ],
   "source": [
    "# Check if the response indicates success\n",
    "if resp[\"data\"][\"is_success\"]: \n",
    "    content = resp[\"data\"][\"data\"][\"response\"]\n",
    "    print(content)"
   ]
  }
 ],
 "metadata": {
  "kernelspec": {
   "display_name": "Python 3",
   "language": "python",
   "name": "python3"
  },
  "language_info": {
   "codemirror_mode": {
    "name": "ipython",
    "version": 3
   },
   "file_extension": ".py",
   "mimetype": "text/x-python",
   "name": "python",
   "nbconvert_exporter": "python",
   "pygments_lexer": "ipython3",
   "version": "3.10.7"
  }
 },
 "nbformat": 4,
 "nbformat_minor": 2
}
