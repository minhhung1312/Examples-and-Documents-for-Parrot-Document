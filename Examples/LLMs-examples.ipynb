{
 "cells": [
  {
   "cell_type": "markdown",
   "metadata": {},
   "source": [
    "# Install"
   ]
  },
  {
   "cell_type": "code",
   "execution_count": null,
   "metadata": {},
   "outputs": [],
   "source": [
    "# Update new package. Lastest version is 0.1.18\n",
    "!pip install parrotai -U"
   ]
  },
  {
   "cell_type": "code",
   "execution_count": 2,
   "metadata": {},
   "outputs": [],
   "source": [
    "#Import library\n",
    "from parrotai import ParrotAPI\n",
    "import time"
   ]
  },
  {
   "cell_type": "markdown",
   "metadata": {},
   "source": [
    "# Login"
   ]
  },
  {
   "cell_type": "code",
   "execution_count": 3,
   "metadata": {},
   "outputs": [],
   "source": [
    "# Create a new instance of the ParrotAPI\n",
    "parrotai = ParrotAPI()"
   ]
  },
  {
   "cell_type": "code",
   "execution_count": 4,
   "metadata": {},
   "outputs": [],
   "source": [
    "# Please visit https://joinparrot.ai to register your account\n",
    "\n",
    "username = '<your-username>'\n",
    "password = '<your-password>'"
   ]
  },
  {
   "cell_type": "code",
   "execution_count": 5,
   "metadata": {},
   "outputs": [],
   "source": [
    "# Login to the API. The credentials are stored in the object. You to login first before you can access the other endpoints\n",
    "_ = parrotai.login(username=username, password=password)"
   ]
  },
  {
   "cell_type": "markdown",
   "metadata": {},
   "source": [
    "# Generate LLMs"
   ]
  },
  {
   "cell_type": "code",
   "execution_count": 6,
   "metadata": {},
   "outputs": [
    {
     "name": "stdout",
     "output_type": "stream",
     "text": [
      "Sure, here is the rewritten text in a more emotional and less formal tone, as though it were written by an excited and patriotic Japanese grandfather:\n",
      "\n",
      "\"Oh boy, what a day! The 2019 World Economic Forum is happening in Davos, Switzerland, and guess what? Our very own Prime Minister Shinzo Abe is there! He's arrived by train, just like a true samurai warrior would. It's such a big event, with over 3,000 guests from all over the world, including heads of state and government. It's like the cherry blossom festival, but on a much grander scale!\n",
      "\n",
      "Prime Minister Abe is going to give a speech, and I'm sure he'll talk about how Japan is doing and how we're going to continue to grow. It's a big deal, you know? We're all proud of our prime minister, and I'm sure he'll do a great job.\n",
      "\n",
      "So, let's all cheer for Prime Minister Abe! Let's show the world that Japan is a strong and proud country. Let's all join together and make the world a better place, one train ride at a time.\n"
     ]
    }
   ],
   "source": [
    "# Create task\n",
    "messages = [\n",
    "    {\"role\": \"user\", \"content\": \"\"\"The reference text below provides context for the following instruction: Japanese PM Arrives at World Economic Forum \n",
    "     in Davos by Passenger Train (PHOTOS) The 2019 World Economic Forum in the Swiss city of Davos, dedicated to issues relating to globalisation, \n",
    "     is expected to be visited by over 3,000 guests from numerous countries, including heads of state and government. Japanese Prime Minister Shinzo \n",
    "     Abe has arrived by train at the 2019 World Economic Forum, where he is expected to give a speech. Earlier in the day, the prime minister's office \n",
    "     shared a photo of Abe, sitting inside a train and enjoying a view of the snowy landscape. Hello, ! We are committed to protecting your personal \n",
    "     information and we have updated our Privacy Policy to comply with the General Data Protection Regulation (GDPR), a new EU regulation that went \n",
    "     into effect on May 25, 2018. Please review our Privacy Policy. It contains details about the types of data we collect, how we use it, and your \n",
    "     data protection rights. Since you already shared your personal data with us when you created your personal account, to continue using it, please \n",
    "     check the box below: I agree to the processing of my personal data for the purpose of creating a personal account on this site, in compliance with \n",
    "     the Privacy Policy. If you do not want us to continue processing your data, please click here to delete your account. promotes the use of narcotic \n",
    "     / psychotropic substances, provides information on their production and use; contains links to viruses and malicious software; is part of an \n",
    "     organized action involving large volumes of comments with identical or similar content (\"flash mob\"); \"floods\" the discussion thread with a large \n",
    "     number of incoherent or irrelevant messages; violates etiquette, exhibiting any form of aggressive, humiliating or abusive behavior (\"trolling\"); \n",
    "     doesn't follow standard rules of the English language, for example, is typed fully or mostly in capital letters or isn't broken down into sentences. \n",
    "     The administration has the right to block a user's access to the page or delete a user's account without notice if the user is in violation of these \n",
    "     rules or if behavior indicating said violation is detected. Please rewrite the text to be more emotional and less formal, as though it were written \n",
    "     by an excited and patriotic Japanese grandfather.\"\"\"}\n",
    "]\n",
    "\n",
    "resp = parrotai.text_generation(\n",
    "    messages=messages,\n",
    "    model=\"gemma-7b\", \n",
    "    max_tokens=1024, # The maximum token generation\n",
    ")\n",
    "\n",
    "if resp[\"data\"][\"is_success\"]: # Check if the response indicates success\n",
    "    content = resp[\"data\"][\"data\"][\"response\"]\n",
    "    print(content)"
   ]
  }
 ],
 "metadata": {
  "kernelspec": {
   "display_name": "Python 3",
   "language": "python",
   "name": "python3"
  },
  "language_info": {
   "codemirror_mode": {
    "name": "ipython",
    "version": 3
   },
   "file_extension": ".py",
   "mimetype": "text/x-python",
   "name": "python",
   "nbconvert_exporter": "python",
   "pygments_lexer": "ipython3",
   "version": "3.10.7"
  }
 },
 "nbformat": 4,
 "nbformat_minor": 2
}
