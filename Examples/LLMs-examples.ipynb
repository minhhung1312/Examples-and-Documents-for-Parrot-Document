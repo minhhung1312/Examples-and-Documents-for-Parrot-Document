{
 "cells": [
  {
   "cell_type": "markdown",
   "metadata": {},
   "source": [
    "# Install"
   ]
  },
  {
   "cell_type": "code",
   "execution_count": null,
   "metadata": {},
   "outputs": [],
   "source": [
    "# Update new package. Lastest version is 0.1.18\n",
    "!pip install parrotai -U"
   ]
  },
  {
   "cell_type": "code",
   "execution_count": 8,
   "metadata": {},
   "outputs": [],
   "source": [
    "#Import library\n",
    "from parrotai import ParrotAPI\n",
    "import time"
   ]
  },
  {
   "cell_type": "markdown",
   "metadata": {},
   "source": [
    "# Login"
   ]
  },
  {
   "cell_type": "code",
   "execution_count": 9,
   "metadata": {},
   "outputs": [],
   "source": [
    "# Create a new instance of the ParrotAPI\n",
    "parrotai = ParrotAPI()"
   ]
  },
  {
   "cell_type": "code",
   "execution_count": 10,
   "metadata": {},
   "outputs": [],
   "source": [
    "# Please visit https://joinparrot.ai to register your account\n",
    "\n",
    "username = '<your-username>'\n",
    "password = '<your-password>'"
   ]
  },
  {
   "cell_type": "code",
   "execution_count": 11,
   "metadata": {},
   "outputs": [],
   "source": [
    "# Login to the API. The credentials are stored in the object. You to login first before you can access the other endpoints\n",
    "_ = parrotai.login(username=username, password=password)"
   ]
  },
  {
   "cell_type": "markdown",
   "metadata": {},
   "source": [
    "# Generate LLMs"
   ]
  },
  {
   "cell_type": "code",
   "execution_count": 12,
   "metadata": {},
   "outputs": [
    {
     "name": "stdout",
     "output_type": "stream",
     "text": [
      "Deep within the heart of a remote forest, where towering trees cast long shadows upon the moss-laden ground, a group of intrepid friends embarked on an exhilarating adventure. As they ventured deeper into the wilderness, they encountered unforeseen obstacles that threatened to derail their journey. Dense undergrowth tangled their feet, treacherous ravines threatened to swallow them whole, and the oppressive heat cast a sweat upon their brows. Undeterred, the friends drew upon their resilience, ingeniously overcoming each challenge one by one. Through their determination, resourcefulness, and unwavering support for one another, they forged a path through the wilderness, creating memories that would last a lifetime.\n"
     ]
    }
   ],
   "source": [
    "# Create task\n",
    "messages = [\n",
    "    {\"role\": \"user\", \"content\": \"\"\"Compose a short paragraph describing an exciting adventure of a group of \n",
    "     friends in a remote forest, where they encounter unexpected challenges and must find ways to overcome them.\"\"\"}\n",
    "]\n",
    "\n",
    "resp = parrotai.text_generation(\n",
    "    messages=messages,\n",
    "    model=\"gemma-7b\", \n",
    "    max_tokens=1024, # The maximum token generation\n",
    ")\n",
    "\n",
    "if resp[\"data\"][\"is_success\"]: # Check if the response indicates success\n",
    "    content = resp[\"data\"][\"data\"][\"response\"]\n",
    "    print(content)"
   ]
  }
 ],
 "metadata": {
  "kernelspec": {
   "display_name": "Python 3",
   "language": "python",
   "name": "python3"
  },
  "language_info": {
   "codemirror_mode": {
    "name": "ipython",
    "version": 3
   },
   "file_extension": ".py",
   "mimetype": "text/x-python",
   "name": "python",
   "nbconvert_exporter": "python",
   "pygments_lexer": "ipython3",
   "version": "3.10.7"
  }
 },
 "nbformat": 4,
 "nbformat_minor": 2
}
