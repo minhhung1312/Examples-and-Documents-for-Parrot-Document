{
 "cells": [
  {
   "cell_type": "code",
   "execution_count": null,
   "metadata": {},
   "outputs": [],
   "source": [
    "# install the package\n",
    "!pip install parrotai"
   ]
  },
  {
   "cell_type": "code",
   "execution_count": null,
   "metadata": {},
   "outputs": [],
   "source": [
    "import requests\n",
    "\n",
    "from io import BytesIO\n",
    "from PIL import Image\n",
    "\n",
    "def view_image_from_url(url: str) -> Image:\n",
    "  response = requests.get(url)\n",
    "  image = Image.open(BytesIO(response.content))\n",
    "  return image"
   ]
  },
  {
   "cell_type": "code",
   "execution_count": null,
   "metadata": {},
   "outputs": [],
   "source": [
    "from parrotai import ParrotAPI"
   ]
  },
  {
   "cell_type": "code",
   "execution_count": null,
   "metadata": {},
   "outputs": [],
   "source": [
    "# Create a new instance of the ParrotAPI\n",
    "parrot = ParrotAPI()"
   ]
  },
  {
   "cell_type": "markdown",
   "metadata": {},
   "source": [
    "# Login"
   ]
  },
  {
   "cell_type": "code",
   "execution_count": null,
   "metadata": {},
   "outputs": [],
   "source": [
    "# please visit https://joinparrot.ai to register your account\n",
    "\n",
    "username = 'parrot_dev'\n",
    "password = 'parrot_dev123'"
   ]
  },
  {
   "cell_type": "code",
   "execution_count": null,
   "metadata": {},
   "outputs": [],
   "source": [
    "# login to the API. The credentials are stored in the object. You to login first before you can access the other endpoints\n",
    "login_resp = parrot.login(username=username, password=password)"
   ]
  },
  {
   "cell_type": "markdown",
   "metadata": {},
   "source": [
    "# HTTP Request\n"
   ]
  },
  {
   "cell_type": "code",
   "execution_count": null,
   "metadata": {},
   "outputs": [],
   "source": [
    "# POST /ai/image_generation"
   ]
  },
  {
   "cell_type": "markdown",
   "metadata": {},
   "source": [
    "# Authorization"
   ]
  },
  {
   "cell_type": "code",
   "execution_count": null,
   "metadata": {},
   "outputs": [],
   "source": [
    "# Include your ACCESS TOKEN in HTTP Authorization header\n",
    "# Authorization: Bearer Token"
   ]
  },
  {
   "cell_type": "markdown",
   "metadata": {},
   "source": [
    "# Parameter"
   ]
  },
  {
   "cell_type": "code",
   "execution_count": null,
   "metadata": {},
   "outputs": [],
   "source": []
  },
  {
   "cell_type": "markdown",
   "metadata": {},
   "source": [
    "| Key | Type | Value |\n",
    "|---------|---------|---------|\n",
    "|  prompt |  String |  A brief description or theme for the image you want to generate. Example: “A beautiful flower with red petals and yellow stamens.” |\n",
    "|  configs |  JSON |  A JSON object containing various settings to customize the image generation process including the parameters below. |\n",
    "|  model |  String |  A JSON object containing various settings to customize the image generation process including the parameters below. |\n",
    "|  model |  String |  A JSON object containing various settings to customize the image generation process including the parameters below. |\n",
    "|  model |  String |  A JSON object containing various settings to customize the image generation process including the parameters below. |\n",
    "|  model |  String |  A JSON object containing various settings to customize the image generation process including the parameters below. |\n",
    "|  model |  String |  A JSON object containing various settings to customize the image generation process including the parameters below. |\n",
    "|  model |  String |  A JSON object containing various settings to customize the image generation process including the parameters below. |\n",
    "|  model |  String |  A JSON object containing various settings to customize the image generation process including the parameters below. |\n",
    "|  model |  String |  A JSON object containing various settings to customize the image generation process including the parameters below. |\n",
    "\n"
   ]
  }
 ],
 "metadata": {
  "kernelspec": {
   "display_name": "Python 3",
   "language": "python",
   "name": "python3"
  },
  "language_info": {
   "codemirror_mode": {
    "name": "ipython",
    "version": 3
   },
   "file_extension": ".py",
   "mimetype": "text/x-python",
   "name": "python",
   "nbconvert_exporter": "python",
   "pygments_lexer": "ipython3",
   "version": "3.10.7"
  }
 },
 "nbformat": 4,
 "nbformat_minor": 2
}
