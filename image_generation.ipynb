{
 "cells": [
  {
   "cell_type": "code",
   "execution_count": null,
   "metadata": {},
   "outputs": [],
   "source": [
    "# install the package\n",
    "!pip install parrotai"
   ]
  },
  {
   "cell_type": "code",
   "execution_count": null,
   "metadata": {},
   "outputs": [],
   "source": [
    "import requests\n",
    "\n",
    "from io import BytesIO\n",
    "from PIL import Image\n",
    "\n",
    "def view_image_from_url(url: str) -> Image:\n",
    "  response = requests.get(url)\n",
    "  image = Image.open(BytesIO(response.content))\n",
    "  return image"
   ]
  },
  {
   "cell_type": "code",
   "execution_count": null,
   "metadata": {},
   "outputs": [],
   "source": [
    "from parrotai import ParrotAPI"
   ]
  },
  {
   "cell_type": "code",
   "execution_count": null,
   "metadata": {},
   "outputs": [],
   "source": [
    "# Create a new instance of the ParrotAPI\n",
    "parrot = ParrotAPI()"
   ]
  },
  {
   "cell_type": "markdown",
   "metadata": {},
   "source": [
    "# Login"
   ]
  },
  {
   "cell_type": "code",
   "execution_count": null,
   "metadata": {},
   "outputs": [],
   "source": [
    "# please visit https://joinparrot.ai to register your account\n",
    "\n",
    "username = 'parrot_dev'\n",
    "password = 'parrot_dev123'"
   ]
  },
  {
   "cell_type": "code",
   "execution_count": null,
   "metadata": {},
   "outputs": [],
   "source": [
    "# login to the API. The credentials are stored in the object. You to login first before you can access the other endpoints\n",
    "login_resp = parrot.login(username=username, password=password)"
   ]
  },
  {
   "cell_type": "markdown",
   "metadata": {},
   "source": [
    "# HTTP Request\n"
   ]
  },
  {
   "cell_type": "markdown",
   "metadata": {},
   "source": [
    "*POST /ai/image_generation*"
   ]
  },
  {
   "cell_type": "markdown",
   "metadata": {},
   "source": [
    "# Authorization"
   ]
  },
  {
   "cell_type": "markdown",
   "metadata": {},
   "source": [
    "Include your ACCESS TOKEN in HTTP Authorization header \n",
    "\n",
    "*Authorization: Bearer Token*"
   ]
  },
  {
   "cell_type": "markdown",
   "metadata": {},
   "source": [
    "# Parameter"
   ]
  },
  {
   "cell_type": "markdown",
   "metadata": {},
   "source": [
    "| Key | Type | Value |\n",
    "|---------|---------|---------|\n",
    "|  prompt |  String |  A brief description or theme for the image you want to generate. Example: “A beautiful flower with red petals and yellow stamens.” |\n",
    "|  configs |  JSON |  A JSON object containing various settings to customize the image generation process including the parameters below. |\n",
    "|  model |  String |  Specifies the AI model used for generating the image. Enum: “sd-1.5”, Default is “sdxl-lightning”. |\n",
    "|  lora |  String |  Indicates the LoRA (Low-Rank Adaptation) used, which can affect the style or aspects of the generated image. Example: \"v1\", \"surrealism\". |\n",
    "|  width |  Integer |  The width of the generated image in pixels. This should be a positive integer. Common range: 256 to 1024 pixels. Common range: 256 to 1024 pixels. |\n",
    "|  height |  Integer |  The height of the generated image in pixels, also a positive integer. |\n",
    "|  steps |  Integer |  The number of steps the model will take to refine the image. Common range: 20 to 100 steps. |\n",
    "|  seed |  Integer |  An initial seed value for the random number generator used in image generation. xxxxxxxxxxxxxxxxxxxxxxxxxxxxxxxxxxxxxxxxxxxxxxxxxxxxxxxxxxxxxxxxxxxxxxxxxxxxxxxxxxxxxxxxxxxxxxxxxxxxxxxxxxxxxxxxxxxxxxxxxxxxxxxxxxxxxxx |\n",
    "|  negative_prompt |  String |  A description of elements you specifically want to exclude from the image. This helps in refining the output to better match your expectations. Example: \"No humans, animals\". |\n",
    "|  enhance_prompt |  Boolean | It has two values: True and False. When set to True, the model will utilize language modeling to enhance and clarify the initial prompt, potentially leading to more detailed and accurate representations. |\n",
    "\n"
   ]
  },
  {
   "cell_type": "markdown",
   "metadata": {},
   "source": [
    "# User guide"
   ]
  },
  {
   "cell_type": "markdown",
   "metadata": {},
   "source": [
    "1. Craft a Detailed Prompt: Begin by crafting a clear and detailed prompt for the image you have in mind. Incorporate all pertinent details to steer the image generation effectively.\n",
    "\n",
    "2. Adjust Configuration Settings: Tailor the configuration settings to your preferences. This involves making choices regarding image resolution (width and height), the level of detail (steps), and the expected processing time, balancing these elements according to your needs.\n",
    "\n",
    "3. Experiment with Seeds: Leverage the seed parameter to explore different variations of your image. Altering the seed can yield distinct outcomes based on the same initial prompt, offering a range of possibilities.\n",
    "\n",
    "4. Refine Using Negative Prompts: Employ the negative_prompt field to eliminate any elements you do not wish to include in your images. This step helps in fine-tuning the results to more accurately reflect your vision.\n",
    "\n",
    "5. Enhance Your Prompt for Better Outcomes: Should the results not meet your expectations, consider activating the enhance_prompt feature. A more elaborate prompt may lead to improved image generation.\n",
    "\n",
    "6. Review and Fine-tune: Once you've generated an image, take the time to review it. Based on your assessment, adjust the parameters as needed to enhance the quality of future images."
   ]
  },
  {
   "cell_type": "markdown",
   "metadata": {},
   "source": [
    "# Parrot API"
   ]
  },
  {
   "cell_type": "markdown",
   "metadata": {},
   "source": [
    "*resp = parrot.create_txt2img(prompt, model, lora, width, height, steps, seed, negative_prompt, enhance_prompt)*"
   ]
  },
  {
   "cell_type": "markdown",
   "metadata": {},
   "source": [
    "# Examples"
   ]
  },
  {
   "cell_type": "code",
   "execution_count": null,
   "metadata": {},
   "outputs": [],
   "source": [
    "resp = parrot.create_txt2img(\n",
    "    \"A serene mountain landscape at sunrise.\",\n",
    "    model='sdxl-lightning',\n",
    "    lora='',\n",
    "    width=1024,\n",
    "    height=1024,\n",
    "    seed=1000,\n",
    "    steps=8,\n",
    "    enhance_prompt=False\n",
    ")"
   ]
  }
 ],
 "metadata": {
  "kernelspec": {
   "display_name": "Python 3",
   "language": "python",
   "name": "python3"
  },
  "language_info": {
   "codemirror_mode": {
    "name": "ipython",
    "version": 3
   },
   "file_extension": ".py",
   "mimetype": "text/x-python",
   "name": "python",
   "nbconvert_exporter": "python",
   "pygments_lexer": "ipython3",
   "version": "3.10.7"
  }
 },
 "nbformat": 4,
 "nbformat_minor": 2
}
