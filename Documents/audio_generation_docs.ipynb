{
 "cells": [
  {
   "cell_type": "code",
   "execution_count": null,
   "metadata": {},
   "outputs": [],
   "source": [
    "# Update new package. Lastest version is 0.1.16\n",
    "!pip install parrotai -U"
   ]
  },
  {
   "cell_type": "code",
   "execution_count": 11,
   "metadata": {},
   "outputs": [],
   "source": [
    "from parrotai import ParrotAPI\n",
    "import time"
   ]
  },
  {
   "cell_type": "code",
   "execution_count": 12,
   "metadata": {},
   "outputs": [],
   "source": [
    "# Create a new instance of the ParrotAPI\n",
    "parrotai = ParrotAPI()"
   ]
  },
  {
   "cell_type": "markdown",
   "metadata": {},
   "source": [
    "# Login"
   ]
  },
  {
   "cell_type": "code",
   "execution_count": 13,
   "metadata": {},
   "outputs": [],
   "source": [
    "# please visit https://joinparrot.ai to register your account\n",
    "\n",
    "username = '<your-username>'\n",
    "password = '<your-password>'"
   ]
  },
  {
   "cell_type": "code",
   "execution_count": 14,
   "metadata": {},
   "outputs": [],
   "source": [
    "# login to the API. The credentials are stored in the object. You to login first before you can access the other endpoints\n",
    "_ = parrotai.login(username=username, password=password)"
   ]
  },
  {
   "cell_type": "markdown",
   "metadata": {},
   "source": [
    "# Create text-to-audio task"
   ]
  },
  {
   "cell_type": "markdown",
   "metadata": {},
   "source": [
    "### HTTP Request\n"
   ]
  },
  {
   "cell_type": "markdown",
   "metadata": {},
   "source": [
    "*POST /ai/audio_generation*"
   ]
  },
  {
   "cell_type": "markdown",
   "metadata": {},
   "source": [
    "### Authorization"
   ]
  },
  {
   "cell_type": "markdown",
   "metadata": {},
   "source": [
    "Include your ACCESS TOKEN in HTTP Authorization header \n",
    "\n",
    "*Authorization: Bearer Token*"
   ]
  },
  {
   "cell_type": "markdown",
   "metadata": {},
   "source": [
    "### Parameter"
   ]
  },
  {
   "cell_type": "markdown",
   "metadata": {},
   "source": [
    "| Key | Type | Value |\n",
    "|---------|---------|---------|\n",
    "| prompt |  String |  A brief description or theme for the audio you want to generate. Example: “Motorcycle engine sound”. |\n",
    "| model |  String |  Specifies the AI model used for generating the audio. Default is \"audiogen\". |\n",
    "| duration |  Integer | The duration of the generated audio clip in seconds. For example, 5 seconds. |\n",
    "| top_k |  Integer | This integer value determines the sampling strategy by limiting the selection to the k most likely next tokens at each step of the generation. Influences the variety in the audio generation. Common range: 1 to 1000. Default value is 50. |\n",
    "| top_p |  Float | Controls the breadth of token selection based on cumulative probability. A lower top_p value means the model will sample from a smaller, more likely set of tokens, which can help in maintaining the quality of the generated audio content. Common range: 0 - 1. Default value is 0.5. |\n"
   ]
  },
  {
   "cell_type": "markdown",
   "metadata": {},
   "source": [
    "### User guide"
   ]
  },
  {
   "cell_type": "markdown",
   "metadata": {},
   "source": [
    "1. Craft a Detailed Prompt: Start with a clear and detailed prompt for the audio you envision. Include all relevant details to guide the audio generation effectively. The more descriptive your prompt, the more accurately the AI can generate the desired audio ambiance or music.\n",
    "\n",
    "2. Set Duration: Define how long you want your audio clip to be. This can range from a few seconds to several minutes, depending on your needs. Keep in mind that longer durations may increase processing time.\n",
    "\n",
    "3. Adjust Sampling Strategy (top_k and top_p): Experiment with the top_k and top_p parameters to control the diversity and creativity of the generated audio. Adjusting these parameters can help you find a balance between randomness and coherence in the audio content.\n",
    "\n",
    "4. Generate and Evaluate: Once you have set all the parameters, generate your audio. Listen to the output carefully and evaluate whether it meets your expectations and requirements.\n",
    "\n",
    "5. Iterate for Perfection: It's unlikely to get the perfect result on the first try. Use your initial output as a learning experience to refine your prompt, adjust parameters, and experiment with different settings. Iteration can significantly improve the quality and relevance of the generated audio."
   ]
  },
  {
   "cell_type": "markdown",
   "metadata": {},
   "source": [
    "### Parrot API"
   ]
  },
  {
   "cell_type": "code",
   "execution_count": null,
   "metadata": {},
   "outputs": [],
   "source": [
    "resp = parrotai.create_txt2audio(prompt, model, duration, top_k, top_p)"
   ]
  },
  {
   "cell_type": "markdown",
   "metadata": {},
   "source": [
    "### Returns the ID of the successful task"
   ]
  },
  {
   "cell_type": "code",
   "execution_count": 22,
   "metadata": {},
   "outputs": [],
   "source": [
    "# Configs\n",
    "model = \"audiogen\"\n",
    "duration = 5\n",
    "top_k = 15\n",
    "top_p = 0.9 "
   ]
  },
  {
   "cell_type": "code",
   "execution_count": 23,
   "metadata": {},
   "outputs": [
    {
     "name": "stdout",
     "output_type": "stream",
     "text": [
      "{'data': {'task_id': 'f8184aff872c4062ac7fb7e3a40dafac', 'prompt': 'The motorbike engine is accelerating', 'negative_prompt': '', 'config': {'model': 'audiogen', 'duration': 5, 'top_k': 15, 'top_p': 0.9, 'task_name': 'tasks.parrot_audiogen_task', 'task_type': 'TEXT-TO-AUDIO', 'queue_name': 'audiogen_queue'}}, 'errors': [], 'error_description': '', 'start_time': '2024-03-15 01:34:49.257219', 'end_time': '2024-03-15 01:34:49.359186', 'host_of_client_call_request': '103.186.100.36', 'total_time_by_second': 0.101979, 'status': 'success'}\n"
     ]
    },
    {
     "data": {
      "text/plain": [
       "'f8184aff872c4062ac7fb7e3a40dafac'"
      ]
     },
     "execution_count": 23,
     "metadata": {},
     "output_type": "execute_result"
    }
   ],
   "source": [
    "# Create task\n",
    "resp = parrotai.create_txt2audio(\n",
    "    prompt=\"The motorbike engine is accelerating\", \n",
    "    model=model,\n",
    "    duration=duration,\n",
    "    top_k=top_k,\n",
    "    top_p=top_p\n",
    ")\n",
    "print(resp)\n",
    "task_id = resp['data']['task_id']\n",
    "task_id"
   ]
  },
  {
   "cell_type": "markdown",
   "metadata": {},
   "source": [
    "# Get result text-to-audio task"
   ]
  },
  {
   "cell_type": "markdown",
   "metadata": {},
   "source": [
    "### HTTP Request"
   ]
  },
  {
   "cell_type": "markdown",
   "metadata": {},
   "source": [
    "*POST /ai/audio_generation/{task_id}*"
   ]
  },
  {
   "cell_type": "markdown",
   "metadata": {},
   "source": [
    "### Authorization"
   ]
  },
  {
   "cell_type": "markdown",
   "metadata": {},
   "source": [
    "Include your ACCESS TOKEN in HTTP Authorization header \n",
    "\n",
    "*Authorization: Bearer Token*"
   ]
  },
  {
   "cell_type": "markdown",
   "metadata": {},
   "source": [
    "### Parameter"
   ]
  },
  {
   "cell_type": "markdown",
   "metadata": {},
   "source": [
    "<style>\n",
    "    th, td {\n",
    "        width: 200px;\n",
    "    }\n",
    "</style>\n",
    "\n",
    "<div style=\"float: left;\">\n",
    "\n",
    "| Key     | Type   | Value   |\n",
    "|---------|--------|---------|\n",
    "| task_id | String | Task ID |\n",
    "\n",
    "</div>\n"
   ]
  },
  {
   "cell_type": "markdown",
   "metadata": {},
   "source": [
    "### Parrot API"
   ]
  },
  {
   "cell_type": "code",
   "execution_count": null,
   "metadata": {},
   "outputs": [],
   "source": [
    "resp = parrotai.result_txt2audio(task_id)"
   ]
  },
  {
   "cell_type": "markdown",
   "metadata": {},
   "source": [
    "### Return status and result of Task ID"
   ]
  },
  {
   "cell_type": "code",
   "execution_count": 24,
   "metadata": {},
   "outputs": [
    {
     "name": "stdout",
     "output_type": "stream",
     "text": [
      "{'data': {'is_success': True, 'data': {'task_id': 'f8184aff872c4062ac7fb7e3a40dafac', 'total_tasks': 1, 'percent': 100, 'status': 'COMPLETED', 'url_download': 'https://media.joinparrot.ai/parrot-prod/generated_result/f8184aff872c4062ac7fb7e3a40dafac.wav'}}, 'errors': [], 'error_description': '', 'start_time': '2024-03-15 01:35:06.380282', 'end_time': '2024-03-15 01:35:06.380956', 'host_of_client_call_request': '103.186.100.36', 'total_time_by_second': 0.000683, 'status': 'success'}\n"
     ]
    }
   ],
   "source": [
    "# Get result\n",
    "timeout = time.time() + 60 \n",
    "while True:\n",
    "    if time.time() > timeout:\n",
    "        break\n",
    "    time.sleep(1)\n",
    "    resp_result = parrotai.result_txt2audio(task_id)\n",
    "    if resp_result['data']['data']['status'] == 'COMPLETED':\n",
    "        break\n",
    "print(resp_result)"
   ]
  }
 ],
 "metadata": {
  "kernelspec": {
   "display_name": "Python 3",
   "language": "python",
   "name": "python3"
  },
  "language_info": {
   "codemirror_mode": {
    "name": "ipython",
    "version": 3
   },
   "file_extension": ".py",
   "mimetype": "text/x-python",
   "name": "python",
   "nbconvert_exporter": "python",
   "pygments_lexer": "ipython3",
   "version": "3.10.7"
  }
 },
 "nbformat": 4,
 "nbformat_minor": 2
}
