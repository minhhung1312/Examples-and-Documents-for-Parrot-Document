{
 "cells": [
  {
   "cell_type": "code",
   "execution_count": null,
   "metadata": {},
   "outputs": [],
   "source": [
    "# Update new package. Lastest version is 0.1.16\n",
    "!pip install parrotai -U"
   ]
  },
  {
   "cell_type": "code",
   "execution_count": 13,
   "metadata": {},
   "outputs": [],
   "source": [
    "from parrotai import ParrotAPI\n",
    "import time"
   ]
  },
  {
   "cell_type": "code",
   "execution_count": 14,
   "metadata": {},
   "outputs": [],
   "source": [
    "# Create a new instance of the ParrotAPI\n",
    "parrotai = ParrotAPI()"
   ]
  },
  {
   "cell_type": "markdown",
   "metadata": {},
   "source": [
    "# Login"
   ]
  },
  {
   "cell_type": "code",
   "execution_count": 15,
   "metadata": {},
   "outputs": [],
   "source": [
    "# please visit https://joinparrot.ai to register your account\n",
    "\n",
    "username = '<your-username>'\n",
    "password = '<your-password>'"
   ]
  },
  {
   "cell_type": "code",
   "execution_count": 16,
   "metadata": {},
   "outputs": [],
   "source": [
    "# login to the API. The credentials are stored in the object. You to login first before you can access the other endpoints\n",
    "_ = parrotai.login(username=username, password=password)"
   ]
  },
  {
   "cell_type": "markdown",
   "metadata": {},
   "source": [
    "# Create text-to-music task"
   ]
  },
  {
   "cell_type": "markdown",
   "metadata": {},
   "source": [
    "### HTTP Request\n"
   ]
  },
  {
   "cell_type": "markdown",
   "metadata": {},
   "source": [
    "*POST /ai/music_generation*"
   ]
  },
  {
   "cell_type": "markdown",
   "metadata": {},
   "source": [
    "### Authorization"
   ]
  },
  {
   "cell_type": "markdown",
   "metadata": {},
   "source": [
    "Include your ACCESS TOKEN in HTTP Authorization header \n",
    "\n",
    "*Authorization: Bearer Token*"
   ]
  },
  {
   "cell_type": "markdown",
   "metadata": {},
   "source": [
    "### Parameter"
   ]
  },
  {
   "cell_type": "markdown",
   "metadata": {},
   "source": [
    "| Key | Type | Value |\n",
    "|---------|---------|---------|\n",
    "| prompt |  String |  A brief description or theme for the music you want to generate. Example: “Motorcycle engine sound”. |\n",
    "| model |  String |  Specifies the AI model used for generating the music. Default is \"musicgen\". |\n",
    "| duration |  Integer | The duration of the generated music in seconds. For example, 5 seconds. |\n",
    "| top_k |  Integer | This integer value determines the sampling strategy by limiting the selection to the k most likely next tokens at each step of the generation. Influences the variety in the music generation. Common range: 1 to 1000. Default value is 50. |\n",
    "| top_p |  Float | Controls the breadth of token selection based on cumulative probability. A lower top_p value means the model will sample from a smaller, more likely set of tokens, which can help in maintaining the quality of the generated music content. Common range: 0 - 1. Default value is 0.5. |\n"
   ]
  },
  {
   "cell_type": "markdown",
   "metadata": {},
   "source": [
    "### User guide"
   ]
  },
  {
   "cell_type": "markdown",
   "metadata": {},
   "source": [
    "1. Craft a Detailed Prompt: Begin by formulating a clear and detailed prompt for the music piece you envision. Include genres, mood, instruments, and any specific musical elements you wish to incorporate. The more precise and descriptive your prompt, the closer the AI-generated music will align with your desired outcome.\n",
    "\n",
    "2. Set Duration: Decide on the length of your music clip. Whether you need a short jingle or a longer composition, specify the duration in seconds. Remember, longer clips may require more processing time, so plan accordingly.\n",
    "\n",
    "3. Adjust Sampling Strategy (top_k and top_p): Utilize the top_k and top_p parameters to influence the diversity and innovation in your music composition. Tweaking these parameters allows you to strike a balance between creativity and musical coherence, ensuring the output is both unique and enjoyable.\n",
    "\n",
    "4. Generate and Evaluate: With your parameters configured, proceed to generate your music. Carefully listen to the produced piece and assess its alignment with your expectations and creative vision. This step is crucial for determining the success of the generation process.\n",
    "\n",
    "5. Iterate for Perfection: Achieving the perfect piece of music usually requires several attempts. Use the feedback from each iteration to refine your prompt and adjust the settings. Through successive refinements, you can significantly enhance the quality and specificity of the generated music, bringing it closer to your envisioned masterpiece."
   ]
  },
  {
   "cell_type": "markdown",
   "metadata": {},
   "source": [
    "### Parrot API"
   ]
  },
  {
   "cell_type": "code",
   "execution_count": null,
   "metadata": {},
   "outputs": [],
   "source": [
    "resp = parrotai.create_txt2audio(prompt, model, duration, top_k, top_p)"
   ]
  },
  {
   "cell_type": "markdown",
   "metadata": {},
   "source": [
    "### Returns the ID of the successful task"
   ]
  },
  {
   "cell_type": "code",
   "execution_count": 19,
   "metadata": {},
   "outputs": [],
   "source": [
    "# Configs\n",
    "model = \"musicgen\"\n",
    "duration = 5\n",
    "top_k = 15\n",
    "top_p = 0.9 "
   ]
  },
  {
   "cell_type": "code",
   "execution_count": 20,
   "metadata": {},
   "outputs": [
    {
     "name": "stdout",
     "output_type": "stream",
     "text": [
      "{'data': {'task_id': 'fc2cc36dee7547e0808afe14e1da082b', 'prompt': 'Vibrant EDM music', 'negative_prompt': '', 'config': {'model': 'musicgen', 'duration': 5, 'top_k': 15, 'top_p': 0.9, 'task_name': 'tasks.parrot_musicgen_task', 'task_type': 'TEXT-TO-AUDIO', 'queue_name': 'musicgen_queue'}}, 'errors': [], 'error_description': '', 'start_time': '2024-03-15 01:32:53.471877', 'end_time': '2024-03-15 01:32:53.506446', 'host_of_client_call_request': '103.186.100.36', 'total_time_by_second': 0.034581, 'status': 'success'}\n"
     ]
    },
    {
     "data": {
      "text/plain": [
       "'fc2cc36dee7547e0808afe14e1da082b'"
      ]
     },
     "execution_count": 20,
     "metadata": {},
     "output_type": "execute_result"
    }
   ],
   "source": [
    "# Create task\n",
    "resp = parrotai.create_txt2audio(\n",
    "    prompt=\"Vibrant EDM music\", \n",
    "    model=model,\n",
    "    duration=duration,\n",
    "    top_k=top_k,\n",
    "    top_p=top_p\n",
    ")\n",
    "print(resp)\n",
    "task_id = resp['data']['task_id']\n",
    "task_id"
   ]
  },
  {
   "cell_type": "markdown",
   "metadata": {},
   "source": [
    "# Get result text-to-music task"
   ]
  },
  {
   "cell_type": "markdown",
   "metadata": {},
   "source": [
    "### HTTP Request"
   ]
  },
  {
   "cell_type": "markdown",
   "metadata": {},
   "source": [
    "*POST /ai/music_generation/{task_id}*"
   ]
  },
  {
   "cell_type": "markdown",
   "metadata": {},
   "source": [
    "### Authorization"
   ]
  },
  {
   "cell_type": "markdown",
   "metadata": {},
   "source": [
    "Include your ACCESS TOKEN in HTTP Authorization header \n",
    "\n",
    "*Authorization: Bearer Token*"
   ]
  },
  {
   "cell_type": "markdown",
   "metadata": {},
   "source": [
    "### Parameter"
   ]
  },
  {
   "cell_type": "markdown",
   "metadata": {},
   "source": [
    "<style>\n",
    "    th, td {\n",
    "        width: 200px;\n",
    "    }\n",
    "</style>\n",
    "\n",
    "<div style=\"float: left;\">\n",
    "\n",
    "| Key     | Type   | Value   |\n",
    "|---------|--------|---------|\n",
    "| task_id | String | Task ID |\n",
    "\n",
    "</div>\n"
   ]
  },
  {
   "cell_type": "markdown",
   "metadata": {},
   "source": [
    "### Parrot API"
   ]
  },
  {
   "cell_type": "code",
   "execution_count": null,
   "metadata": {},
   "outputs": [],
   "source": [
    "resp = parrotai.result_txt2audio(task_id)"
   ]
  },
  {
   "cell_type": "markdown",
   "metadata": {},
   "source": [
    "### Return status and result of Task ID"
   ]
  },
  {
   "cell_type": "code",
   "execution_count": 21,
   "metadata": {},
   "outputs": [
    {
     "name": "stdout",
     "output_type": "stream",
     "text": [
      "{'data': {'is_success': True, 'data': {'task_id': 'fc2cc36dee7547e0808afe14e1da082b', 'total_tasks': 1, 'percent': 100, 'status': 'COMPLETED', 'url_download': 'https://media.joinparrot.ai/parrot-prod/generated_result/fc2cc36dee7547e0808afe14e1da082b.wav'}}, 'errors': [], 'error_description': '', 'start_time': '2024-03-15 01:33:07.958016', 'end_time': '2024-03-15 01:33:07.958665', 'host_of_client_call_request': '103.186.100.36', 'total_time_by_second': 0.000658, 'status': 'success'}\n"
     ]
    }
   ],
   "source": [
    "# Get result\n",
    "timeout = time.time() + 60 \n",
    "while True:\n",
    "    if time.time() > timeout:\n",
    "        break\n",
    "    time.sleep(1)\n",
    "    resp_result = parrotai.result_txt2audio(task_id)\n",
    "    if resp_result['data']['data']['status'] == 'COMPLETED':\n",
    "        break\n",
    "print(resp_result)"
   ]
  }
 ],
 "metadata": {
  "kernelspec": {
   "display_name": "Python 3",
   "language": "python",
   "name": "python3"
  },
  "language_info": {
   "codemirror_mode": {
    "name": "ipython",
    "version": 3
   },
   "file_extension": ".py",
   "mimetype": "text/x-python",
   "name": "python",
   "nbconvert_exporter": "python",
   "pygments_lexer": "ipython3",
   "version": "3.10.7"
  }
 },
 "nbformat": 4,
 "nbformat_minor": 2
}
