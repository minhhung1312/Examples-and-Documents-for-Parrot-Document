{
 "cells": [
  {
   "cell_type": "code",
   "execution_count": null,
   "metadata": {},
   "outputs": [],
   "source": [
    "# Update new package. Lastest version is 0.1.16\n",
    "!pip install parrotai -U"
   ]
  },
  {
   "cell_type": "code",
   "execution_count": 1,
   "metadata": {},
   "outputs": [],
   "source": [
    "from parrotai import ParrotAPI\n",
    "import time"
   ]
  },
  {
   "cell_type": "code",
   "execution_count": 2,
   "metadata": {},
   "outputs": [],
   "source": [
    "# Create a new instance of the ParrotAPI\n",
    "parrotai = ParrotAPI()"
   ]
  },
  {
   "cell_type": "markdown",
   "metadata": {},
   "source": [
    "# Login"
   ]
  },
  {
   "cell_type": "code",
   "execution_count": 3,
   "metadata": {},
   "outputs": [],
   "source": [
    "# please visit https://joinparrot.ai to register your account\n",
    "\n",
    "username = '<your-username>'\n",
    "password = '<your-password>'"
   ]
  },
  {
   "cell_type": "code",
   "execution_count": 4,
   "metadata": {},
   "outputs": [],
   "source": [
    "# login to the API. The credentials are stored in the object. You to login first before you can access the other endpoints\n",
    "_ = parrotai.login(username=username, password=password)"
   ]
  },
  {
   "cell_type": "markdown",
   "metadata": {},
   "source": [
    "# Create text-to-speech task"
   ]
  },
  {
   "cell_type": "markdown",
   "metadata": {},
   "source": [
    "### HTTP Request\n"
   ]
  },
  {
   "cell_type": "markdown",
   "metadata": {},
   "source": [
    "*POST /ai/speech_generation*"
   ]
  },
  {
   "cell_type": "markdown",
   "metadata": {},
   "source": [
    "### Authorization"
   ]
  },
  {
   "cell_type": "markdown",
   "metadata": {},
   "source": [
    "Include your ACCESS TOKEN in HTTP Authorization header \n",
    "\n",
    "*Authorization: Bearer Token*"
   ]
  },
  {
   "cell_type": "markdown",
   "metadata": {},
   "source": [
    "### Parameter"
   ]
  },
  {
   "cell_type": "markdown",
   "metadata": {},
   "source": [
    "| Key | Type | Value |\n",
    "|---------|---------|---------|\n",
    "| prompt |  String | The text you wish to convert into speech. Example: \"Hello, my name is Suno\". |\n",
    "| model |  String |  Specifies the AI model used for generating the speech. Default is \"bark\". |\n",
    "\n"
   ]
  },
  {
   "cell_type": "markdown",
   "metadata": {},
   "source": [
    "### User guide"
   ]
  },
  {
   "cell_type": "markdown",
   "metadata": {},
   "source": [
    "1. Craft a Clear Prompt: Start by writing the text that you want to be spoken. This text should be clear and well-structured, as it will be directly converted into speech. Consider the flow and natural pauses in speech to make the output sound more realistic.\n",
    "\n",
    "2. Generate and Evaluate: Once you've crafted your prompt, generate your speech. Listen to the audio output carefully to assess its quality, clarity, and how well it matches your expectations.\n",
    "\n",
    "3. Refine Your Prompt for Naturalness: If the speech doesn't sound as natural or expressive as you'd like, consider revising your prompt. Adding punctuation, changing sentence structures, or even specifying the tone can help guide the AI to produce more natural-sounding speech.\n",
    "\n",
    "4. Iterate and Improve: It may take several attempts to perfect the speech output. Use each iteration as a learning opportunity to refine your prompt. Continuous tweaking and testing will lead to the most natural and effective speech generation."
   ]
  },
  {
   "cell_type": "markdown",
   "metadata": {},
   "source": [
    "### Parrot API"
   ]
  },
  {
   "cell_type": "code",
   "execution_count": null,
   "metadata": {},
   "outputs": [],
   "source": [
    "resp = parrotai.create_txt2audio(prompt, model)"
   ]
  },
  {
   "cell_type": "markdown",
   "metadata": {},
   "source": [
    "### Returns the ID of the successful task"
   ]
  },
  {
   "cell_type": "code",
   "execution_count": 7,
   "metadata": {},
   "outputs": [
    {
     "name": "stdout",
     "output_type": "stream",
     "text": [
      "{'data': {'task_id': 'f11c94a2663c42c9a290ee71bf7f7fc7', 'prompt': 'Hello, my name is Parrot AI. I can  generate audio from text.', 'negative_prompt': '', 'config': {'model': 'bark', 'task_name': 'tasks.parrot_t2s_task', 'task_type': 'TXT2AUDIO', 'queue_name': 't2s_queue'}}, 'errors': [], 'error_description': '', 'start_time': '2024-03-15 01:54:33.545592', 'end_time': '2024-03-15 01:54:33.668490', 'host_of_client_call_request': '103.186.100.36', 'total_time_by_second': 0.122904, 'status': 'success'}\n"
     ]
    },
    {
     "data": {
      "text/plain": [
       "'f11c94a2663c42c9a290ee71bf7f7fc7'"
      ]
     },
     "execution_count": 7,
     "metadata": {},
     "output_type": "execute_result"
    }
   ],
   "source": [
    "# Create task\n",
    "model = \"bark\"\n",
    "resp = parrotai.create_txt2audio(\n",
    "    prompt=\"Hello, my name is Parrot AI. I can generate audio from text.\",\n",
    "    model=model\n",
    ")\n",
    "print(resp)\n",
    "task_id = resp['data']['task_id']\n",
    "task_id"
   ]
  },
  {
   "cell_type": "markdown",
   "metadata": {},
   "source": [
    "# Get result text-to-speech task"
   ]
  },
  {
   "cell_type": "markdown",
   "metadata": {},
   "source": [
    "### HTTP Request"
   ]
  },
  {
   "cell_type": "markdown",
   "metadata": {},
   "source": [
    "*POST /ai/speech_generation/{task_id}*"
   ]
  },
  {
   "cell_type": "markdown",
   "metadata": {},
   "source": [
    "### Authorization"
   ]
  },
  {
   "cell_type": "markdown",
   "metadata": {},
   "source": [
    "Include your ACCESS TOKEN in HTTP Authorization header \n",
    "\n",
    "*Authorization: Bearer Token*"
   ]
  },
  {
   "cell_type": "markdown",
   "metadata": {},
   "source": [
    "### Parameter"
   ]
  },
  {
   "cell_type": "markdown",
   "metadata": {},
   "source": [
    "<style>\n",
    "    th, td {\n",
    "        width: 200px;\n",
    "    }\n",
    "</style>\n",
    "\n",
    "<div style=\"float: left;\">\n",
    "\n",
    "| Key     | Type   | Value   |\n",
    "|---------|--------|---------|\n",
    "| task_id | String | Task ID |\n",
    "\n",
    "</div>\n"
   ]
  },
  {
   "cell_type": "markdown",
   "metadata": {},
   "source": [
    "### Parrot API"
   ]
  },
  {
   "cell_type": "code",
   "execution_count": null,
   "metadata": {},
   "outputs": [],
   "source": [
    "resp = parrotai.result_txt2audio(task_id)"
   ]
  },
  {
   "cell_type": "markdown",
   "metadata": {},
   "source": [
    "### Return status and result of Task ID"
   ]
  },
  {
   "cell_type": "code",
   "execution_count": 8,
   "metadata": {},
   "outputs": [
    {
     "name": "stdout",
     "output_type": "stream",
     "text": [
      "{'data': {'is_success': True, 'data': {'task_id': 'f11c94a2663c42c9a290ee71bf7f7fc7', 'total_tasks': 1, 'percent': 100, 'status': 'COMPLETED', 'url_download': 'https://media.joinparrot.ai/parrot-prod/generated_result/f11c94a2663c42c9a290ee71bf7f7fc7.wav'}}, 'errors': [], 'error_description': '', 'start_time': '2024-03-15 01:54:52.438306', 'end_time': '2024-03-15 01:54:52.438999', 'host_of_client_call_request': '103.186.100.36', 'total_time_by_second': 0.000702, 'status': 'success'}\n"
     ]
    }
   ],
   "source": [
    "# Get result\n",
    "timeout = time.time() + 300 \n",
    "while True:\n",
    "    if time.time() > timeout:\n",
    "        break\n",
    "    time.sleep(1)\n",
    "    resp_result = parrotai.result_txt2audio(task_id)\n",
    "    if resp_result['data']['data']['status'] == 'COMPLETED':\n",
    "        break\n",
    "print(resp_result)"
   ]
  }
 ],
 "metadata": {
  "kernelspec": {
   "display_name": "Python 3",
   "language": "python",
   "name": "python3"
  },
  "language_info": {
   "codemirror_mode": {
    "name": "ipython",
    "version": 3
   },
   "file_extension": ".py",
   "mimetype": "text/x-python",
   "name": "python",
   "nbconvert_exporter": "python",
   "pygments_lexer": "ipython3",
   "version": "3.10.7"
  }
 },
 "nbformat": 4,
 "nbformat_minor": 2
}
