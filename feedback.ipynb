{
 "cells": [
  {
   "cell_type": "code",
   "execution_count": null,
   "id": "4eeb34f2-04c8-4b28-9c1f-e6861ba85e78",
   "metadata": {},
   "outputs": [],
   "source": [
    "# install the package\n",
    "!pip install parrotai"
   ]
  },
  {
   "cell_type": "markdown",
   "id": "7feecccd-d132-4046-a973-0d40dc1f015e",
   "metadata": {},
   "source": [
    "# Ví dụ về sử dụng Jupyter Notebook"
   ]
  },
  {
   "cell_type": "code",
   "execution_count": null,
   "id": "0b7fe1b5-d020-4be5-829f-408e0c3383d4",
   "metadata": {},
   "outputs": [],
   "source": []
  }
 ],
 "metadata": {
  "kernelspec": {
   "display_name": "Python 3 (ipykernel)",
   "language": "python",
   "name": "python3"
  },
  "language_info": {
   "codemirror_mode": {
    "name": "ipython",
    "version": 3
   },
   "file_extension": ".py",
   "mimetype": "text/x-python",
   "name": "python",
   "nbconvert_exporter": "python",
   "pygments_lexer": "ipython3",
   "version": "3.10.7"
  }
 },
 "nbformat": 4,
 "nbformat_minor": 5
}
