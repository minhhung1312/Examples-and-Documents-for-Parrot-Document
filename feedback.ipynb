{
 "cells": [
  {
   "cell_type": "code",
   "execution_count": null,
   "id": "4eeb34f2-04c8-4b28-9c1f-e6861ba85e78",
   "metadata": {},
   "outputs": [],
   "source": [
    "# install the package\n",
    "!pip install parrotai"
   ]
  },
  {
   "cell_type": "code",
   "execution_count": null,
   "id": "99e28a58-2d33-4bbc-bad9-c55c3d6664c0",
   "metadata": {},
   "outputs": [],
   "source": []
  },
  {
   "cell_type": "code",
   "execution_count": null,
   "id": "dd588324-d941-46bd-bf2f-de170d3f7679",
   "metadata": {},
   "outputs": [],
   "source": []
  }
 ],
 "metadata": {
  "kernelspec": {
   "display_name": "Python 3 (ipykernel)",
   "language": "python",
   "name": "python3"
  },
  "language_info": {
   "codemirror_mode": {
    "name": "ipython",
    "version": 3
   },
   "file_extension": ".py",
   "mimetype": "text/x-python",
   "name": "python",
   "nbconvert_exporter": "python",
   "pygments_lexer": "ipython3",
   "version": "3.10.7"
  }
 },
 "nbformat": 4,
 "nbformat_minor": 5
}
